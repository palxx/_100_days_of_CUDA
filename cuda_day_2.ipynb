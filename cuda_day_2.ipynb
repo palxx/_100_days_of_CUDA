{
  "nbformat": 4,
  "nbformat_minor": 0,
  "metadata": {
    "colab": {
      "provenance": [],
      "authorship_tag": "ABX9TyOu8rFv+Ry95peRnalno5dG",
      "include_colab_link": true
    },
    "kernelspec": {
      "name": "python3",
      "display_name": "Python 3"
    },
    "language_info": {
      "name": "python"
    }
  },
  "cells": [
    {
      "cell_type": "markdown",
      "metadata": {
        "id": "view-in-github",
        "colab_type": "text"
      },
      "source": [
        "<a href=\"https://colab.research.google.com/github/palxx/_100_days_of_CUDA/blob/main/cuda_day_2.ipynb\" target=\"_parent\"><img src=\"https://colab.research.google.com/assets/colab-badge.svg\" alt=\"Open In Colab\"/></a>"
      ]
    },
    {
      "cell_type": "code",
      "execution_count": 1,
      "metadata": {
        "id": "pkwlYwLs50Up",
        "colab": {
          "base_uri": "https://localhost:8080/"
        },
        "outputId": "0beb2d1a-e94f-44a5-b5ea-26fbc7073df7"
      },
      "outputs": [
        {
          "output_type": "stream",
          "name": "stdout",
          "text": [
            "Writing vector_multiplication.cu\n"
          ]
        }
      ],
      "source": [
        "%%writefile vector_multiplication.cu"
      ]
    },
    {
      "cell_type": "code",
      "source": [
        "%%writefile vector_multiplication.cu\n",
        "#include <cuda_runtime.h>\n",
        "#include <iostream>\n",
        "\n",
        "__device__ float square(int x){\n",
        "    return x*x;\n",
        "    // __device__ marked function can only be called from anoter device function\n",
        "    // or a kernel method\n",
        "}\n",
        "\n",
        "__global__ void voidKernel(int *input,int *output,int N) {\n",
        "    int i = blockIdx.x * blockDim.x + threadIdx.x;\n",
        "    if (i < N){\n",
        "        output[i] = square(input[i]);\n",
        "    }\n",
        "}\n",
        "int main() {\n",
        "    int N = 10; // Number of elements\n",
        "    int size = N * sizeof(int);\n",
        "\n",
        "    int *h_input = new int[N];\n",
        "    int *h_output = new int[N];\n",
        "\n",
        "    for (int i = 0; i < N; i++) {\n",
        "        h_input[i] = i + 1;\n",
        "    }\n",
        "\n",
        "    int *d_input, *d_output;\n",
        "    cudaMalloc((void**)&d_input, size);\n",
        "    cudaMalloc((void**)&d_output, size);\n",
        "\n",
        "    cudaMemcpy(d_input, h_input, size, cudaMemcpyHostToDevice);\n",
        "\n",
        "    int threadsPerBlock = 256;\n",
        "    int blockGrid = (N + threadsPerBlock - 1) / threadsPerBlock;\n",
        "\n",
        "    // Start CUDA timing\n",
        "    cudaEvent_t start, stop;\n",
        "    cudaEventCreate(&start);\n",
        "    cudaEventCreate(&stop);\n",
        "\n",
        "    cudaEventRecord(start);\n",
        "\n",
        "    // Run the kernel\n",
        "    voidKernel<<<blockGrid, threadsPerBlock>>>(d_input, d_output, N);\n",
        "\n",
        "    cudaEventRecord(stop);\n",
        "    cudaEventSynchronize(stop);\n",
        "\n",
        "    // Measure time\n",
        "    float milliseconds = 0;\n",
        "    cudaEventElapsedTime(&milliseconds, start, stop);\n",
        "\n",
        "    // Copy results back to CPU\n",
        "    cudaMemcpy(h_output, d_output, size, cudaMemcpyDeviceToHost);\n",
        "\n",
        "    std::cout << \"Execution Time: \" << milliseconds << \" ms\" << std::endl;\n",
        "\n",
        "    delete[] h_input;\n",
        "    delete[] h_output;\n",
        "    cudaFree(d_input);\n",
        "    cudaFree(d_output);\n",
        "\n",
        "    return 0;\n",
        "}"
      ],
      "metadata": {
        "colab": {
          "base_uri": "https://localhost:8080/"
        },
        "id": "2eHUXKwmMzjs",
        "outputId": "5c5dd167-1f39-40cf-8281-80528955c3a3"
      },
      "execution_count": 2,
      "outputs": [
        {
          "output_type": "stream",
          "name": "stdout",
          "text": [
            "Overwriting vector_multiplication.cu\n"
          ]
        }
      ]
    },
    {
      "cell_type": "code",
      "source": [
        "!nvcc vector_multiplication.cu -o vector_multiplication"
      ],
      "metadata": {
        "id": "rx9omfCxepsL"
      },
      "execution_count": 3,
      "outputs": []
    },
    {
      "cell_type": "code",
      "source": [
        "!./vector_multiplication"
      ],
      "metadata": {
        "colab": {
          "base_uri": "https://localhost:8080/"
        },
        "id": "ue1fesCzet76",
        "outputId": "b298f273-5ec1-48d7-a48b-7299f1049cc9"
      },
      "execution_count": 4,
      "outputs": [
        {
          "output_type": "stream",
          "name": "stdout",
          "text": [
            "Execution Time: 100.574 ms\n"
          ]
        }
      ]
    },
    {
      "cell_type": "code",
      "source": [
        "import torch\n",
        "import triton\n",
        "import triton.language as tl\n",
        "\n",
        "@triton.jit\n",
        "def __kernelfunction__(input_pointer, output_pointer, N, BLOCKSIZE: tl.constexpr):\n",
        "    pid = tl.program_id(0)\n",
        "    offset = pid * BLOCKSIZE + tl.arange(0, BLOCKSIZE)\n",
        "    mask = offset < N\n",
        "    input_data = tl.load(input_pointer + offset, mask=mask)\n",
        "    output_data = input_data * input_data  # Squaring the input\n",
        "    tl.store(output_pointer + offset, output_data, mask=mask)\n",
        "\n",
        "def main():\n",
        "    N = 10**6  # Larger array size for better benchmarking\n",
        "\n",
        "    input_data = torch.arange(0, N, dtype=torch.float32, device=\"cuda\")\n",
        "    output_data = torch.empty_like(input_data, device=\"cuda\")\n",
        "\n",
        "    BLOCKSIZE = 256\n",
        "    GRID = (triton.cdiv(N, BLOCKSIZE),)\n",
        "\n",
        "    # Start timing\n",
        "    start_event = torch.cuda.Event(enable_timing=True)\n",
        "    stop_event = torch.cuda.Event(enable_timing=True)\n",
        "\n",
        "    start_event.record()\n",
        "\n",
        "    __kernelfunction__[GRID](input_data, output_data, N, BLOCKSIZE=BLOCKSIZE)\n",
        "\n",
        "    stop_event.record()\n",
        "    torch.cuda.synchronize()  # Ensure kernel execution finishes\n",
        "\n",
        "    # Measure time\n",
        "    elapsed_time = start_event.elapsed_time(stop_event)\n",
        "    print(f\"Execution Time: {elapsed_time:.4f} ms\")\n",
        "\n",
        "if __name__ == \"__main__\":\n",
        "    main()"
      ],
      "metadata": {
        "colab": {
          "base_uri": "https://localhost:8080/"
        },
        "id": "cfoJJ4unM2Gk",
        "outputId": "3e2af05d-5664-454a-f5f4-f3c9e2969f66"
      },
      "execution_count": 5,
      "outputs": [
        {
          "output_type": "stream",
          "name": "stdout",
          "text": [
            "Execution Time: 3319.5745 ms\n"
          ]
        }
      ]
    },
    {
      "cell_type": "code",
      "source": [],
      "metadata": {
        "id": "gT8aRsLIeveO"
      },
      "execution_count": null,
      "outputs": []
    }
  ]
}