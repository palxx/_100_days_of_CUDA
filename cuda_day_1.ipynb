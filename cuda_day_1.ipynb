{
  "nbformat": 4,
  "nbformat_minor": 0,
  "metadata": {
    "colab": {
      "provenance": [],
      "gpuType": "T4",
      "authorship_tag": "ABX9TyNL1jVSFlfxPsNQZJKg4vmK",
      "include_colab_link": true
    },
    "kernelspec": {
      "name": "python3",
      "display_name": "Python 3"
    },
    "language_info": {
      "name": "python"
    },
    "accelerator": "GPU"
  },
  "cells": [
    {
      "cell_type": "markdown",
      "metadata": {
        "id": "view-in-github",
        "colab_type": "text"
      },
      "source": [
        "<a href=\"https://colab.research.google.com/github/palxx/_100_days_of_CUDA/blob/main/cuda_day_1.ipynb\" target=\"_parent\"><img src=\"https://colab.research.google.com/assets/colab-badge.svg\" alt=\"Open In Colab\"/></a>"
      ]
    },
    {
      "cell_type": "code",
      "execution_count": 1,
      "metadata": {
        "colab": {
          "base_uri": "https://localhost:8080/"
        },
        "id": "ZZ9eILwuPGI6",
        "outputId": "aac69ee8-8e15-41ba-cdb7-83e1da897f5d"
      },
      "outputs": [
        {
          "output_type": "stream",
          "name": "stdout",
          "text": [
            "Writing vector_multiplication.cu\n"
          ]
        }
      ],
      "source": [
        "%%writefile vector_multiplication.cu"
      ]
    },
    {
      "cell_type": "code",
      "source": [
        "%%writefile vector_multiplication.cu\n",
        "\n",
        "#include <stdio.h>\n",
        "__global__ void multiplyVectors(float *a, float *b, float *c, int n) {\n",
        "    int idx = threadIdx.x + blockIdx.x * blockDim.x;\n",
        "    if (idx < n) {\n",
        "        c[idx] = a[idx] * b[idx];\n",
        "    }\n",
        "}\n",
        "\n",
        "int main() {\n",
        "    const int n = 512;\n",
        "    float a[n], b[n], c[n];\n",
        "    int size = n * sizeof(float);\n",
        "\n",
        "    float *dev_a, *dev_b, *dev_c;\n",
        "    cudaMalloc((void **)&dev_a, size);\n",
        "    cudaMalloc((void **)&dev_b, size);\n",
        "    cudaMalloc((void **)&dev_c, size);\n",
        "\n",
        "    for (int i = 0; i < n; ++i) {\n",
        "        a[i] = b[i] = i;\n",
        "    }\n",
        "\n",
        "    cudaMemcpy(dev_a, a, size, cudaMemcpyHostToDevice);\n",
        "    cudaMemcpy(dev_b, b, size, cudaMemcpyHostToDevice);\n",
        "\n",
        "    multiplyVectors<<<2, 256>>>(dev_a, dev_b, dev_c, n);\n",
        "    cudaMemcpy(c, dev_c, size, cudaMemcpyDeviceToHost);\n",
        "\n",
        "    cudaFree(dev_a);\n",
        "    cudaFree(dev_b);\n",
        "    cudaFree(dev_c);\n",
        "\n",
        "    for (int i = 0; i < 10; ++i) {\n",
        "        printf(\"c[%d] = %f\\n\", i, c[i]);\n",
        "    }\n",
        "    return 0;\n",
        "}"
      ],
      "metadata": {
        "colab": {
          "base_uri": "https://localhost:8080/"
        },
        "id": "Vm_nnE9iPLax",
        "outputId": "70bbb4d6-69b6-451b-fbd4-3ff351c02f9d"
      },
      "execution_count": 2,
      "outputs": [
        {
          "output_type": "stream",
          "name": "stdout",
          "text": [
            "Overwriting vector_multiplication.cu\n"
          ]
        }
      ]
    },
    {
      "cell_type": "code",
      "source": [
        "!nvcc vector_multiplication.cu -o vector_multiplication"
      ],
      "metadata": {
        "id": "1mo2_eLLPVpd"
      },
      "execution_count": 3,
      "outputs": []
    },
    {
      "cell_type": "code",
      "source": [
        "!./vector_multiplication"
      ],
      "metadata": {
        "colab": {
          "base_uri": "https://localhost:8080/"
        },
        "id": "uhfK5YK-PbKy",
        "outputId": "8ec61a39-b1a8-4512-8a0f-430e94f37b0e"
      },
      "execution_count": 4,
      "outputs": [
        {
          "output_type": "stream",
          "name": "stdout",
          "text": [
            "c[0] = 0.000000\n",
            "c[1] = 0.000000\n",
            "c[2] = 0.000000\n",
            "c[3] = 0.000000\n",
            "c[4] = 0.000000\n",
            "c[5] = 0.000000\n",
            "c[6] = 0.000000\n",
            "c[7] = 0.000000\n",
            "c[8] = 0.000000\n",
            "c[9] = 0.000000\n"
          ]
        }
      ]
    },
    {
      "cell_type": "code",
      "source": [
        "!nvidia-smi"
      ],
      "metadata": {
        "colab": {
          "base_uri": "https://localhost:8080/"
        },
        "id": "do93hvveP0g7",
        "outputId": "5cb9326d-4880-4cad-d6a3-6f421bea246e"
      },
      "execution_count": 5,
      "outputs": [
        {
          "output_type": "stream",
          "name": "stdout",
          "text": [
            "Tue Feb 11 04:25:36 2025       \n",
            "+-----------------------------------------------------------------------------------------+\n",
            "| NVIDIA-SMI 550.54.15              Driver Version: 550.54.15      CUDA Version: 12.4     |\n",
            "|-----------------------------------------+------------------------+----------------------+\n",
            "| GPU  Name                 Persistence-M | Bus-Id          Disp.A | Volatile Uncorr. ECC |\n",
            "| Fan  Temp   Perf          Pwr:Usage/Cap |           Memory-Usage | GPU-Util  Compute M. |\n",
            "|                                         |                        |               MIG M. |\n",
            "|=========================================+========================+======================|\n",
            "|   0  Tesla T4                       Off |   00000000:00:04.0 Off |                    0 |\n",
            "| N/A   60C    P0             26W /   70W |       0MiB /  15360MiB |      3%      Default |\n",
            "|                                         |                        |                  N/A |\n",
            "+-----------------------------------------+------------------------+----------------------+\n",
            "                                                                                         \n",
            "+-----------------------------------------------------------------------------------------+\n",
            "| Processes:                                                                              |\n",
            "|  GPU   GI   CI        PID   Type   Process name                              GPU Memory |\n",
            "|        ID   ID                                                               Usage      |\n",
            "|=========================================================================================|\n",
            "|  No running processes found                                                             |\n",
            "+-----------------------------------------------------------------------------------------+\n"
          ]
        }
      ]
    },
    {
      "cell_type": "code",
      "source": [],
      "metadata": {
        "id": "e26kN7gtP7uC"
      },
      "execution_count": null,
      "outputs": []
    }
  ]
}