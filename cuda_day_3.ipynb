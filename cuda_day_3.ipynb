{
  "nbformat": 4,
  "nbformat_minor": 0,
  "metadata": {
    "colab": {
      "provenance": [],
      "gpuType": "T4",
      "authorship_tag": "ABX9TyMwuJ9PoZgl9bTO7quhIm7U",
      "include_colab_link": true
    },
    "kernelspec": {
      "name": "python3",
      "display_name": "Python 3"
    },
    "language_info": {
      "name": "python"
    },
    "accelerator": "GPU"
  },
  "cells": [
    {
      "cell_type": "markdown",
      "metadata": {
        "id": "view-in-github",
        "colab_type": "text"
      },
      "source": [
        "<a href=\"https://colab.research.google.com/github/palxx/_100_days_of_CUDA/blob/main/cuda_day_3.ipynb\" target=\"_parent\"><img src=\"https://colab.research.google.com/assets/colab-badge.svg\" alt=\"Open In Colab\"/></a>"
      ]
    },
    {
      "cell_type": "code",
      "execution_count": 2,
      "metadata": {
        "colab": {
          "base_uri": "https://localhost:8080/"
        },
        "id": "teawC6YwG_zi",
        "outputId": "9fe5a9bf-c89b-4078-9feb-964eff6edb55"
      },
      "outputs": [
        {
          "output_type": "stream",
          "name": "stdout",
          "text": [
            "Writing vector_multiplication.cu\n"
          ]
        }
      ],
      "source": [
        "%%writefile vector_multiplication.cu"
      ]
    },
    {
      "cell_type": "code",
      "source": [
        "%%writefile vector_multiplication.cu\n",
        "#include <iostream>\n",
        "#include <cmath>\n",
        "#include <cuda_runtime.h>\n",
        "#include <chrono>\n",
        "\n",
        "void printMatrix(const float *Matrix, const int size = 16) {\n",
        "    int rootSize = sqrt(size);\n",
        "    for (int i = 0; i < rootSize; i++) {\n",
        "        for (int j = 0; j < rootSize; j++) {\n",
        "            std::cout << Matrix[i * rootSize + j] << \" \";\n",
        "        }\n",
        "        std::cout << \"\\n\";\n",
        "    }\n",
        "}\n",
        "\n",
        "__global__ void matrixAddCUDA(const float *Matrix_A, const float *Matrix_B, float *Matrix_C,\n",
        "                              const int sizeX, const int sizeY) {\n",
        "    int col = blockIdx.x * blockDim.x + threadIdx.x;\n",
        "    int row = blockIdx.y * blockDim.y + threadIdx.y;\n",
        "\n",
        "    if (row < sizeY && col < sizeX) {\n",
        "        Matrix_C[row * sizeX + col] = Matrix_A[row * sizeX + col] + Matrix_B[row * sizeX + col];\n",
        "    }\n",
        "}\n",
        "\n",
        "void matrixAddCPU(const float *Matrix_A, const float *Matrix_B, float *Matrix_C, int sizeX, int sizeY) {\n",
        "    for (int row = 0; row < sizeY; row++) {\n",
        "        for (int col = 0; col < sizeX; col++) {\n",
        "            Matrix_C[row * sizeX + col] = Matrix_A[row * sizeX + col] + Matrix_B[row * sizeX + col];\n",
        "        }\n",
        "    }\n",
        "}\n",
        "\n",
        "void compareExecutionTime(const float *Matrix_A, const float *Matrix_B, float *Matrix_C,\n",
        "                          const int sizeX, const int sizeY) {\n",
        "    const int matrixSize = sizeX * sizeY;\n",
        "    const int matrixBytes = sizeof(float) * matrixSize;\n",
        "\n",
        "    float *gpu_A, *gpu_B, *gpu_C;\n",
        "    cudaMalloc((void **)&gpu_A, matrixBytes);\n",
        "    cudaMalloc((void **)&gpu_B, matrixBytes);\n",
        "    cudaMalloc((void **)&gpu_C, matrixBytes);\n",
        "\n",
        "    cudaMemcpy(gpu_A, Matrix_A, matrixBytes, cudaMemcpyHostToDevice);\n",
        "    cudaMemcpy(gpu_B, Matrix_B, matrixBytes, cudaMemcpyHostToDevice);\n",
        "\n",
        "    int BLOCK_SIZE = 32;\n",
        "    dim3 blockDim(BLOCK_SIZE, BLOCK_SIZE);\n",
        "    dim3 gridDim((sizeX + BLOCK_SIZE - 1) / BLOCK_SIZE, (sizeY + BLOCK_SIZE - 1) / BLOCK_SIZE);\n",
        "\n",
        "    auto startCPU = std::chrono::high_resolution_clock::now();\n",
        "    matrixAddCPU(Matrix_A, Matrix_B, Matrix_C, sizeX, sizeY);\n",
        "    auto endCPU = std::chrono::high_resolution_clock::now();\n",
        "\n",
        "    auto startCUDA = std::chrono::high_resolution_clock::now();\n",
        "    matrixAddCUDA<<<gridDim, blockDim>>>(gpu_A, gpu_B, gpu_C, sizeX, sizeY);\n",
        "    cudaDeviceSynchronize();\n",
        "    auto endCUDA = std::chrono::high_resolution_clock::now();\n",
        "\n",
        "    cudaMemcpy(Matrix_C, gpu_C, matrixBytes, cudaMemcpyDeviceToHost);\n",
        "\n",
        "    std::chrono::duration<double> cpuDuration = endCPU - startCPU;\n",
        "    std::chrono::duration<double> cudaDuration = endCUDA - startCUDA;\n",
        "    std::cout << \"CPU Execution Time: \" << cpuDuration.count() << \" seconds\\n\";\n",
        "    std::cout << \"CUDA Execution Time: \" << cudaDuration.count() << \" seconds\\n\";\n",
        "\n",
        "    cudaFree(gpu_A);\n",
        "    cudaFree(gpu_B);\n",
        "    cudaFree(gpu_C);\n",
        "}\n",
        "\n",
        "int main() {\n",
        "    const int sizeX = 1024*16;\n",
        "    const int sizeY = 1024*16;\n",
        "    const int matrixSize = sizeX * sizeY;\n",
        "\n",
        "    float *cpu_A = new float[matrixSize];\n",
        "    float *cpu_B = new float[matrixSize];\n",
        "    float *cpu_C = new float[matrixSize];\n",
        "\n",
        "    for (int i = 0; i < matrixSize; i++) {\n",
        "        cpu_A[i] = 10.0f;\n",
        "        cpu_B[i] = static_cast<float>(i);\n",
        "    }\n",
        "\n",
        "    compareExecutionTime(cpu_A, cpu_B, cpu_C, sizeX, sizeY);\n",
        "\n",
        "    delete[] cpu_A;\n",
        "    delete[] cpu_B;\n",
        "    delete[] cpu_C;\n",
        "\n",
        "    return 0;\n",
        "}\n"
      ],
      "metadata": {
        "colab": {
          "base_uri": "https://localhost:8080/"
        },
        "id": "2x221XZqHUd3",
        "outputId": "59ccba9a-3930-4da0-d4b7-f341e2058fc5"
      },
      "execution_count": 3,
      "outputs": [
        {
          "output_type": "stream",
          "name": "stdout",
          "text": [
            "Overwriting vector_multiplication.cu\n"
          ]
        }
      ]
    },
    {
      "cell_type": "code",
      "source": [
        "!nvcc vector_multiplication.cu -o vector_multiplication"
      ],
      "metadata": {
        "id": "R05Ke-rUIoZ8"
      },
      "execution_count": 4,
      "outputs": []
    },
    {
      "cell_type": "code",
      "source": [
        "!./vector_multiplication"
      ],
      "metadata": {
        "colab": {
          "base_uri": "https://localhost:8080/"
        },
        "id": "CToRzbdcIybt",
        "outputId": "7c102697-d052-4644-8bc0-79f94a3ea2f1"
      },
      "execution_count": 5,
      "outputs": [
        {
          "output_type": "stream",
          "name": "stdout",
          "text": [
            "CPU Execution Time: 1.36273 seconds\n",
            "CUDA Execution Time: 0.0525025 seconds\n"
          ]
        }
      ]
    },
    {
      "cell_type": "code",
      "source": [
        "import triton\n",
        "import torch\n",
        "import triton.language as tl\n",
        "\n",
        "\n",
        "@triton.jit\n",
        "def addMatrix(Matrix_A,Matrix_B,Matrix_C,sizeX,sizeY,BLOCK_SIZE:tl.constexpr):\n",
        "\n",
        "    pid_x = tl.program_id(0) # we have the rows\n",
        "    pid_y = tl.program_id(1) # we have the collumns\n",
        "\n",
        "    row_start = pid_x*BLOCK_SIZE\n",
        "    col_start = pid_y*BLOCK_SIZE\n",
        "\n",
        "    row_indices = row_start + tl.arange(0,BLOCK_SIZE)\n",
        "    col_indices = col_start + tl.arange(0,BLOCK_SIZE)\n",
        "\n",
        "    row_indices = row_indices[:,None]\n",
        "    col_indices = col_indices[None,:]\n",
        "\n",
        "    row_mask = row_indices < sizeY\n",
        "    col_mask = col_indices < sizeX\n",
        "    valid_mask = row_mask & col_mask\n",
        "\n",
        "    flat_indicies = row_indices * sizeX + col_indices\n",
        "\n",
        "    A = tl.load(Matrix_A + flat_indicies,mask =valid_mask,other=0.0)\n",
        "    B = tl.load(Matrix_B + flat_indicies,mask = valid_mask,other = 0.0)\n",
        "\n",
        "    C = A+B;\n",
        "\n",
        "    tl.store(Matrix_C+flat_indicies,C,mask=valid_mask)\n",
        "\n",
        "\n",
        "def test_addMatrix():\n",
        "    sizeX = 8\n",
        "    sizeY = 8\n",
        "    BLOCK_SIZE = 2\n",
        "\n",
        "    Matrix_A = torch.randn(sizeY, sizeX, device='cuda', dtype=torch.float32)\n",
        "    Matrix_B = torch.randn(sizeY, sizeX, device='cuda', dtype=torch.float32)\n",
        "    Matrix_C = torch.zeros_like(Matrix_A, device='cuda', dtype=torch.float32)\n",
        "\n",
        "    Matrix_A_flat = Matrix_A.flatten()\n",
        "    Matrix_B_flat = Matrix_B.flatten()\n",
        "    Matrix_C_flat = Matrix_C.flatten()\n",
        "\n",
        "    grid = (triton.cdiv(sizeX, BLOCK_SIZE), triton.cdiv(sizeY, BLOCK_SIZE))\n",
        "    addMatrix[grid](Matrix_A_flat, Matrix_B_flat, Matrix_C_flat, sizeX, sizeY, BLOCK_SIZE)\n",
        "\n",
        "    Matrix_C = Matrix_C_flat.reshape(sizeY, sizeX)\n",
        "\n",
        "    expected = Matrix_A + Matrix_B\n",
        "    print(\"Matrix A:\\n\", Matrix_A)\n",
        "    print(\"Matrix B:\\n\", Matrix_B)\n",
        "    print(\"Matrix C (Triton):\\n\", Matrix_C)\n",
        "    print(\"Expected (PyTorch):\\n\", expected)\n",
        "    assert torch.allclose(Matrix_C, expected), \"Triton result does not match PyTorch result!\"\n",
        "\n",
        "test_addMatrix()\n",
        ""
      ],
      "metadata": {
        "colab": {
          "base_uri": "https://localhost:8080/"
        },
        "id": "j-BtldPxJ3rr",
        "outputId": "f410aaa5-04a0-4bef-d585-1ad432601dc2"
      },
      "execution_count": 6,
      "outputs": [
        {
          "output_type": "stream",
          "name": "stdout",
          "text": [
            "Matrix A:\n",
            " tensor([[-2.3228,  0.2932, -2.7785, -0.0496,  0.8685, -0.5088,  0.0826,  0.1319],\n",
            "        [ 1.1190, -0.7372, -0.4857,  1.2607, -0.4451, -0.3621, -0.0861, -0.1779],\n",
            "        [ 1.0730, -0.6525,  0.5174, -0.9272, -1.8129,  0.4633,  0.6948,  0.7564],\n",
            "        [ 1.1736,  1.8948, -0.2438,  0.0666, -0.4462, -0.7321, -0.3145, -0.2999],\n",
            "        [-0.1199, -0.9977, -1.6680,  0.3026, -1.5908, -1.6825, -1.7616,  0.9824],\n",
            "        [ 0.0869, -1.1895,  1.2076, -0.4781,  0.3477, -0.9023, -0.9323, -1.1272],\n",
            "        [ 0.2496,  0.0708, -0.4251,  0.5966, -0.7472, -1.4395, -0.4526, -0.1734],\n",
            "        [ 1.2109, -0.5930,  0.2552, -0.4246, -0.1997, -1.3577, -0.3124, -0.5672]],\n",
            "       device='cuda:0')\n",
            "Matrix B:\n",
            " tensor([[-0.7049,  0.9256,  0.8780,  0.7826,  0.4499, -0.2101,  0.8249, -0.3770],\n",
            "        [ 0.8817,  0.2678,  0.0624, -0.4547, -1.4823, -2.1206,  0.6962,  0.1820],\n",
            "        [-0.9694, -0.5023,  0.0289,  0.2932,  1.1516,  1.4994, -0.2897, -0.3089],\n",
            "        [-0.0764, -0.7051,  0.5688,  0.6604,  2.5642, -0.7263,  1.1724, -0.5211],\n",
            "        [-0.7690,  0.9935,  0.7759, -0.5240, -0.5616, -0.6916, -0.4099, -0.2937],\n",
            "        [-1.7761, -0.5358, -1.1029, -2.3097, -1.6968, -0.2054,  1.2684,  1.6004],\n",
            "        [ 0.5922,  0.2391, -1.2373,  0.6018,  0.4653,  0.4031,  0.0314,  0.0508],\n",
            "        [ 1.1233,  1.7708,  0.6688, -1.5085,  1.7324,  0.4581, -0.7677,  0.7820]],\n",
            "       device='cuda:0')\n",
            "Matrix C (Triton):\n",
            " tensor([[-3.0277,  1.2188, -1.9005,  0.7330,  1.3185, -0.7189,  0.9075, -0.2451],\n",
            "        [ 2.0008, -0.4694, -0.4233,  0.8061, -1.9273, -2.4827,  0.6102,  0.0041],\n",
            "        [ 0.1036, -1.1548,  0.5463, -0.6340, -0.6614,  1.9627,  0.4051,  0.4475],\n",
            "        [ 1.0972,  1.1897,  0.3250,  0.7270,  2.1180, -1.4583,  0.8579, -0.8209],\n",
            "        [-0.8889, -0.0042, -0.8921, -0.2214, -2.1524, -2.3740, -2.1715,  0.6887],\n",
            "        [-1.6892, -1.7253,  0.1048, -2.7878, -1.3491, -1.1077,  0.3360,  0.4732],\n",
            "        [ 0.8418,  0.3099, -1.6625,  1.1984, -0.2819, -1.0364, -0.4212, -0.1226],\n",
            "        [ 2.3342,  1.1778,  0.9240, -1.9330,  1.5327, -0.8996, -1.0801,  0.2148]],\n",
            "       device='cuda:0')\n",
            "Expected (PyTorch):\n",
            " tensor([[-3.0277,  1.2188, -1.9005,  0.7330,  1.3185, -0.7189,  0.9075, -0.2451],\n",
            "        [ 2.0008, -0.4694, -0.4233,  0.8061, -1.9273, -2.4827,  0.6102,  0.0041],\n",
            "        [ 0.1036, -1.1548,  0.5463, -0.6340, -0.6614,  1.9627,  0.4051,  0.4475],\n",
            "        [ 1.0972,  1.1897,  0.3250,  0.7270,  2.1180, -1.4583,  0.8579, -0.8209],\n",
            "        [-0.8889, -0.0042, -0.8921, -0.2214, -2.1524, -2.3740, -2.1715,  0.6887],\n",
            "        [-1.6892, -1.7253,  0.1048, -2.7878, -1.3491, -1.1077,  0.3360,  0.4732],\n",
            "        [ 0.8418,  0.3099, -1.6625,  1.1984, -0.2819, -1.0364, -0.4212, -0.1226],\n",
            "        [ 2.3342,  1.1778,  0.9240, -1.9330,  1.5327, -0.8996, -1.0801,  0.2148]],\n",
            "       device='cuda:0')\n"
          ]
        }
      ]
    },
    {
      "cell_type": "code",
      "source": [],
      "metadata": {
        "id": "BOhxQ4qGGeMg"
      },
      "execution_count": 6,
      "outputs": []
    }
  ]
}